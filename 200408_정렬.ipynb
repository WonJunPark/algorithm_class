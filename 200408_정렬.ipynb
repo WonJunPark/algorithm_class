{
  "nbformat": 4,
  "nbformat_minor": 0,
  "metadata": {
    "colab": {
      "name": "Colaboratory에 오신 것을 환영합니다",
      "provenance": [],
      "collapsed_sections": [],
      "include_colab_link": true
    },
    "kernelspec": {
      "display_name": "Python 3",
      "name": "python3"
    }
  },
  "cells": [
    {
      "cell_type": "markdown",
      "metadata": {
        "id": "view-in-github",
        "colab_type": "text"
      },
      "source": [
        "<a href=\"https://colab.research.google.com/github/WonJunPark/algorithm_class/blob/master/200408_%EC%A0%95%EB%A0%AC.ipynb\" target=\"_parent\"><img src=\"https://colab.research.google.com/assets/colab-badge.svg\" alt=\"Open In Colab\"/></a>"
      ]
    },
    {
      "cell_type": "markdown",
      "metadata": {
        "id": "UWFbRXyemasD",
        "colab_type": "text"
      },
      "source": [
        "# 200408 알고리즘 수업\n",
        "- 김우성 교수"
      ]
    },
    {
      "cell_type": "markdown",
      "metadata": {
        "id": "KYVqim89mgia",
        "colab_type": "text"
      },
      "source": [
        "## 선택정렬"
      ]
    },
    {
      "cell_type": "code",
      "metadata": {
        "id": "XRj8xFs7XvWG",
        "colab_type": "code",
        "colab": {
          "base_uri": "https://localhost:8080/",
          "height": 123
        },
        "outputId": "d6280e03-e471-493b-e3a9-717ed8ec66b3"
      },
      "source": [
        "a = [29,10,14,37,13]\n",
        "n = len(a)\n",
        "result = selectionSort(a,n)\n",
        "print('선택정렬 결과 :',result)"
      ],
      "execution_count": 51,
      "outputs": [
        {
          "output_type": "stream",
          "text": [
            "loop.. :  [29, 10, 14, 13, 37]\n",
            "loop.. :  [13, 10, 14, 29, 37]\n",
            "loop.. :  [13, 10, 14, 29, 37]\n",
            "loop.. :  [10, 13, 14, 29, 37]\n",
            "loop.. :  [10, 13, 14, 29, 37]\n",
            "선택정렬 결과 : [10, 13, 14, 29, 37]\n"
          ],
          "name": "stdout"
        }
      ]
    },
    {
      "cell_type": "code",
      "metadata": {
        "id": "bO8ESqmHXvYc",
        "colab_type": "code",
        "colab": {}
      },
      "source": [
        "def selectionSort(a,n):\n",
        "\n",
        "  max_ = a[0]\n",
        "\n",
        "  for i in range(n-1,-1,-1):\n",
        "    # 4~0 까지 루프\n",
        "    # 최댓값 인댁스\n",
        "    max_index = i\n",
        "\n",
        "    # 최댓값 인덱스 찾기\n",
        "    for j in range(0,i):\n",
        "      if a[j] > a[max_index]:\n",
        "        max_index = j\n",
        "    \n",
        "    # 스위치\n",
        "    a[i], a[max_index] = a[max_index], a[i]\n",
        "    print('loop.. : ',a)\n",
        "  \n",
        "  return a"
      ],
      "execution_count": 0,
      "outputs": []
    },
    {
      "cell_type": "markdown",
      "metadata": {
        "id": "F12E-_jntcVY",
        "colab_type": "text"
      },
      "source": [
        "## 병합정렬"
      ]
    },
    {
      "cell_type": "code",
      "metadata": {
        "id": "VE9087kyzdXb",
        "colab_type": "code",
        "colab": {
          "base_uri": "https://localhost:8080/",
          "height": 34
        },
        "outputId": "09102153-008d-4b0b-c485-39e666f248d5"
      },
      "source": [
        "a = [7,2,9,4,3,8,6,1]\n",
        "mergeSort(a)"
      ],
      "execution_count": 76,
      "outputs": [
        {
          "output_type": "execute_result",
          "data": {
            "text/plain": [
              "[1, 2, 3, 4, 6, 7, 8, 9]"
            ]
          },
          "metadata": {
            "tags": []
          },
          "execution_count": 76
        }
      ]
    },
    {
      "cell_type": "code",
      "metadata": {
        "id": "fds3ytxOtcBp",
        "colab_type": "code",
        "colab": {}
      },
      "source": [
        "def mergeSort(a):\n",
        "    # a의 길이가 1 이상일 때\n",
        "    if len(a)>1:\n",
        "        # 중간 지점을 구함\n",
        "        mid = len(a)//2\n",
        "\n",
        "        # 중간 지점을 기준으로 좌우를 나눔 \n",
        "        left = a[:mid]\n",
        "        right = a[mid:]\n",
        "\n",
        "        # 전반부, 후바부 정렬\n",
        "        left2 = mergeSort(left)\n",
        "        right2 = mergeSort(right)\n",
        "\n",
        "        # merge함수를 불러와서 병합\n",
        "        return merge(left2, right2)\n",
        "    else:\n",
        "        return a\n"
      ],
      "execution_count": 0,
      "outputs": []
    },
    {
      "cell_type": "code",
      "metadata": {
        "id": "H-jxMTHStcDn",
        "colab_type": "code",
        "colab": {}
      },
      "source": [
        "def merge(left, right):\n",
        "  # 임의의 두 변수를 선언\n",
        "  # 이 두값이 리스트내 값을 비교하는 지표가됨\n",
        "  i = 0\n",
        "  j = 0\n",
        "\n",
        "  # 결과값을 받은 리스트\n",
        "  merge_a = []\n",
        "\n",
        "  # 좌우를 비교하여 작은값을 결과 리스트에 추가\n",
        "  while (i<len(left)) & (j<len(right)):\n",
        "      if left[i] < right[j]:\n",
        "          merge_a.append(left[i])\n",
        "          i+=1\n",
        "      else:\n",
        "          merge_a.append(right[j])\n",
        "          j+=1\n",
        "  \n",
        "  # 나머지 값들을 결과 리스트에 추가\n",
        "  while (i<len(left)):\n",
        "      merge_a.append(left[i])\n",
        "      i+=1\n",
        "  \n",
        "  while (j<len(right)):\n",
        "      merge_a.append(right[j])\n",
        "      j+=1\n",
        "      \n",
        "  return merge_a\n",
        "    "
      ],
      "execution_count": 0,
      "outputs": []
    },
    {
      "cell_type": "code",
      "metadata": {
        "id": "7p8PhYwexnsq",
        "colab_type": "code",
        "colab": {}
      },
      "source": [
        ""
      ],
      "execution_count": 0,
      "outputs": []
    },
    {
      "cell_type": "code",
      "metadata": {
        "id": "KYQY-gYFxnun",
        "colab_type": "code",
        "colab": {}
      },
      "source": [
        ""
      ],
      "execution_count": 0,
      "outputs": []
    }
  ]
}