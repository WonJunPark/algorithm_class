{
  "nbformat": 4,
  "nbformat_minor": 0,
  "metadata": {
    "colab": {
      "name": "Colaboratory에 오신 것을 환영합니다의 사본",
      "provenance": [],
      "collapsed_sections": [],
      "include_colab_link": true
    },
    "kernelspec": {
      "display_name": "Python 3",
      "name": "python3"
    }
  },
  "cells": [
    {
      "cell_type": "markdown",
      "metadata": {
        "id": "view-in-github",
        "colab_type": "text"
      },
      "source": [
        "<a href=\"https://colab.research.google.com/github/WonJunPark/algorithm_class/blob/master/Colaboratory%EC%97%90_%EC%98%A4%EC%8B%A0_%EA%B2%83%EC%9D%84_%ED%99%98%EC%98%81%ED%95%A9%EB%8B%88%EB%8B%A4%EC%9D%98_%EC%82%AC%EB%B3%B8.ipynb\" target=\"_parent\"><img src=\"https://colab.research.google.com/assets/colab-badge.svg\" alt=\"Open In Colab\"/></a>"
      ]
    },
    {
      "cell_type": "markdown",
      "metadata": {
        "id": "UWFbRXyemasD",
        "colab_type": "text"
      },
      "source": [
        "# 200408 알고리즘 수업\n",
        "- 김우성 교수"
      ]
    },
    {
      "cell_type": "markdown",
      "metadata": {
        "id": "KYVqim89mgia",
        "colab_type": "text"
      },
      "source": [
        "## 선택정렬"
      ]
    },
    {
      "cell_type": "code",
      "metadata": {
        "id": "XRj8xFs7XvWG",
        "colab_type": "code",
        "outputId": "d6280e03-e471-493b-e3a9-717ed8ec66b3",
        "colab": {
          "base_uri": "https://localhost:8080/",
          "height": 123
        }
      },
      "source": [
        "a = [29,10,14,37,13]\n",
        "n = len(a)\n",
        "result = selectionSort(a,n)\n",
        "print('선택정렬 결과 :',result)"
      ],
      "execution_count": 0,
      "outputs": [
        {
          "output_type": "stream",
          "text": [
            "loop.. :  [29, 10, 14, 13, 37]\n",
            "loop.. :  [13, 10, 14, 29, 37]\n",
            "loop.. :  [13, 10, 14, 29, 37]\n",
            "loop.. :  [10, 13, 14, 29, 37]\n",
            "loop.. :  [10, 13, 14, 29, 37]\n",
            "선택정렬 결과 : [10, 13, 14, 29, 37]\n"
          ],
          "name": "stdout"
        }
      ]
    },
    {
      "cell_type": "code",
      "metadata": {
        "id": "bO8ESqmHXvYc",
        "colab_type": "code",
        "colab": {}
      },
      "source": [
        "def selectionSort(a,n):\n",
        "\n",
        "  max_ = a[0]\n",
        "\n",
        "  for i in range(n-1,-1,-1):\n",
        "    # 4~0 까지 루프\n",
        "    # 최댓값 인댁스\n",
        "    max_index = i\n",
        "\n",
        "    # 최댓값 인덱스 찾기\n",
        "    for j in range(0,i):\n",
        "      if a[j] > a[max_index]:\n",
        "        max_index = j\n",
        "    \n",
        "    # 스위치\n",
        "    a[i], a[max_index] = a[max_index], a[i]\n",
        "    print('loop.. : ',a)\n",
        "  \n",
        "  return a"
      ],
      "execution_count": 0,
      "outputs": []
    },
    {
      "cell_type": "markdown",
      "metadata": {
        "id": "F12E-_jntcVY",
        "colab_type": "text"
      },
      "source": [
        "## 병합정렬"
      ]
    },
    {
      "cell_type": "code",
      "metadata": {
        "id": "VE9087kyzdXb",
        "colab_type": "code",
        "outputId": "09102153-008d-4b0b-c485-39e666f248d5",
        "colab": {
          "base_uri": "https://localhost:8080/",
          "height": 34
        }
      },
      "source": [
        "a = [7,2,9,4,3,8,6,1]\n",
        "mergeSort(a)"
      ],
      "execution_count": 0,
      "outputs": [
        {
          "output_type": "execute_result",
          "data": {
            "text/plain": [
              "[1, 2, 3, 4, 6, 7, 8, 9]"
            ]
          },
          "metadata": {
            "tags": []
          },
          "execution_count": 76
        }
      ]
    },
    {
      "cell_type": "code",
      "metadata": {
        "id": "fds3ytxOtcBp",
        "colab_type": "code",
        "colab": {}
      },
      "source": [
        "def mergeSort(a):\n",
        "    # a의 길이가 1 이상일 때\n",
        "    if len(a)>1:\n",
        "        # 중간 지점을 구함\n",
        "        mid = len(a)//2\n",
        "\n",
        "        # 중간 지점을 기준으로 좌우를 나눔 \n",
        "        left = a[:mid]\n",
        "        right = a[mid:]\n",
        "\n",
        "        # 전반부, 후바부 정렬\n",
        "        left2 = mergeSort(left)\n",
        "        right2 = mergeSort(right)\n",
        "\n",
        "        # merge함수를 불러와서 병합\n",
        "        return merge(left2, right2)\n",
        "    else:\n",
        "        return a\n"
      ],
      "execution_count": 0,
      "outputs": []
    },
    {
      "cell_type": "code",
      "metadata": {
        "id": "H-jxMTHStcDn",
        "colab_type": "code",
        "colab": {}
      },
      "source": [
        "def merge(left, right):\n",
        "  # 임의의 두 변수를 선언\n",
        "  # 이 두값이 리스트내 값을 비교하는 지표가됨\n",
        "  i = 0\n",
        "  j = 0\n",
        "\n",
        "  # 결과값을 받은 리스트\n",
        "  merge_a = []\n",
        "\n",
        "  # 좌우를 비교하여 작은값을 결과 리스트에 추가\n",
        "  while (i<len(left)) & (j<len(right)):\n",
        "      if left[i] < right[j]:\n",
        "          merge_a.append(left[i])\n",
        "          i+=1\n",
        "      else:\n",
        "          merge_a.append(right[j])\n",
        "          j+=1\n",
        "  \n",
        "  # 나머지 값들을 결과 리스트에 추가\n",
        "  while (i<len(left)):\n",
        "      merge_a.append(left[i])\n",
        "      i+=1\n",
        "  \n",
        "  while (j<len(right)):\n",
        "      merge_a.append(right[j])\n",
        "      j+=1\n",
        "      \n",
        "  return merge_a\n",
        "    "
      ],
      "execution_count": 0,
      "outputs": []
    },
    {
      "cell_type": "markdown",
      "metadata": {
        "id": "tL0FYWk_xGkK",
        "colab_type": "text"
      },
      "source": [
        "## 4월 22일 알고리즘 수업"
      ]
    },
    {
      "cell_type": "markdown",
      "metadata": {
        "id": "B_GBjbpexKmx",
        "colab_type": "text"
      },
      "source": [
        "### 퀵 정렬"
      ]
    },
    {
      "cell_type": "code",
      "metadata": {
        "id": "aJyLUzYsxz3z",
        "colab_type": "code",
        "colab": {
          "base_uri": "https://localhost:8080/",
          "height": 35
        },
        "outputId": "6d167f43-3836-471f-f3f3-21d49c33cb63"
      },
      "source": [
        "a = [7,2,9,4,3,8,6,1]\n",
        "quick_sort(a)"
      ],
      "execution_count": 14,
      "outputs": [
        {
          "output_type": "execute_result",
          "data": {
            "text/plain": [
              "[1, 2, 3, 4, 6, 7, 8, 9]"
            ]
          },
          "metadata": {
            "tags": []
          },
          "execution_count": 14
        }
      ]
    },
    {
      "cell_type": "code",
      "metadata": {
        "id": "UAPfEr7wxxR0",
        "colab_type": "code",
        "colab": {}
      },
      "source": [
        "def quick_sort(a):\n",
        "  # a의 길이가 2 이상일 때,\n",
        "  if len(a) > 1:\n",
        "    pivot = a[0]\n",
        "    # pivot을 기준으로 작은값은 left, 큰거나 같은 값은 right 변수에 담는다.\n",
        "    left = [e for e in a[1:] if e < pivot]\n",
        "    right = [e for e in a[1:] if e >= pivot]\n",
        "    # pivot을 기준으로 left, right 리스트를 병합하고 재귀함수를 실행한다.\n",
        "    return quick_sort(left) + [pivot] + quick_sort(right)\n",
        "\n",
        "  else :\n",
        "    return a"
      ],
      "execution_count": 0,
      "outputs": []
    },
    {
      "cell_type": "code",
      "metadata": {
        "id": "xwvLXGaw0G0d",
        "colab_type": "code",
        "colab": {}
      },
      "source": [
        ""
      ],
      "execution_count": 0,
      "outputs": []
    }
  ]
}