{
  "nbformat": 4,
  "nbformat_minor": 0,
  "metadata": {
    "colab": {
      "name": "Colaboratory에 오신 것을 환영합니다",
      "provenance": [],
      "collapsed_sections": [],
      "toc_visible": true,
      "include_colab_link": true
    },
    "kernelspec": {
      "display_name": "Python 3",
      "name": "python3"
    }
  },
  "cells": [
    {
      "cell_type": "markdown",
      "metadata": {
        "id": "view-in-github",
        "colab_type": "text"
      },
      "source": [
        "<a href=\"https://colab.research.google.com/github/WonJunPark/algorithm_class/blob/master/Colaboratory%EC%97%90_%EC%98%A4%EC%8B%A0_%EA%B2%83%EC%9D%84_%ED%99%98%EC%98%81%ED%95%A9%EB%8B%88%EB%8B%A4.ipynb\" target=\"_parent\"><img src=\"https://colab.research.google.com/assets/colab-badge.svg\" alt=\"Open In Colab\"/></a>"
      ]
    },
    {
      "cell_type": "markdown",
      "metadata": {
        "id": "UWFbRXyemasD",
        "colab_type": "text"
      },
      "source": [
        "# 200408 알고리즘 수업\n",
        "- 김우성 교수"
      ]
    },
    {
      "cell_type": "markdown",
      "metadata": {
        "id": "KYVqim89mgia",
        "colab_type": "text"
      },
      "source": [
        "## 선택정렬"
      ]
    },
    {
      "cell_type": "code",
      "metadata": {
        "id": "XRj8xFs7XvWG",
        "colab_type": "code",
        "colab": {
          "base_uri": "https://localhost:8080/",
          "height": 123
        },
        "outputId": "d6280e03-e471-493b-e3a9-717ed8ec66b3"
      },
      "source": [
        "a = [29,10,14,37,13]\n",
        "n = len(a)\n",
        "result = selectionSort(a,n)\n",
        "print('선택정렬 결과 :',result)"
      ],
      "execution_count": 51,
      "outputs": [
        {
          "output_type": "stream",
          "text": [
            "loop.. :  [29, 10, 14, 13, 37]\n",
            "loop.. :  [13, 10, 14, 29, 37]\n",
            "loop.. :  [13, 10, 14, 29, 37]\n",
            "loop.. :  [10, 13, 14, 29, 37]\n",
            "loop.. :  [10, 13, 14, 29, 37]\n",
            "선택정렬 결과 : [10, 13, 14, 29, 37]\n"
          ],
          "name": "stdout"
        }
      ]
    },
    {
      "cell_type": "code",
      "metadata": {
        "id": "bO8ESqmHXvYc",
        "colab_type": "code",
        "colab": {}
      },
      "source": [
        "def selectionSort(a,n):\n",
        "\n",
        "  max_ = a[0]\n",
        "\n",
        "  for i in range(n-1,-1,-1):\n",
        "    # 4~0 까지 루프\n",
        "    # 최댓값 인댁스\n",
        "    max_index = i\n",
        "\n",
        "    # 최댓값 인덱스 찾기\n",
        "    for j in range(0,i):\n",
        "      if a[j] > a[max_index]:\n",
        "        max_index = j\n",
        "    \n",
        "    # 스위치\n",
        "    a[i], a[max_index] = a[max_index], a[i]\n",
        "    print('loop.. : ',a)\n",
        "  \n",
        "  return a"
      ],
      "execution_count": 0,
      "outputs": []
    },
    {
      "cell_type": "code",
      "metadata": {
        "id": "7nToxAK7icap",
        "colab_type": "code",
        "colab": {}
      },
      "source": [
        ""
      ],
      "execution_count": 0,
      "outputs": []
    }
  ]
}